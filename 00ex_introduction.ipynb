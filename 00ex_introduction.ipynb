{
 "cells": [
  {
   "cell_type": "markdown",
   "metadata": {},
   "source": [
    "1. The MickeyMouse problem\n",
    "\n",
    "a) Write a program that prints the numbers from 1 to 100. But for multiples of three print Mickey instead of the number and for the multiples of five print Mouse. For numbers which are multiples of both three and five print MickeyMouse\n",
    "\n",
    "b) Put the result in a tuple and substitute Mickey with Donald and Mouse with Duck"
   ]
  },
  {
   "cell_type": "code",
   "execution_count": 102,
   "metadata": {},
   "outputs": [
    {
     "name": "stdout",
     "output_type": "stream",
     "text": [
      "a) The modified sequence of numbers from 1 to 100 is: \n",
      "1 2 Mickey 4 Mouse Mickey 7 8 Mickey Mouse 11 Mickey 13 14 MickeyMouse 16 17 Mickey 19 Mouse Mickey 22 23 Mickey Mouse 26 Mickey 28 29 MickeyMouse 31 32 Mickey 34 Mouse Mickey 37 38 Mickey Mouse 41 Mickey 43 44 MickeyMouse 46 47 Mickey 49 Mouse Mickey 52 53 Mickey Mouse 56 Mickey 58 59 MickeyMouse 61 62 Mickey 64 Mouse Mickey 67 68 Mickey Mouse 71 Mickey 73 74 MickeyMouse 76 77 Mickey 79 Mouse Mickey 82 83 Mickey Mouse 86 Mickey 88 89 MickeyMouse 91 92 Mickey 94 Mouse Mickey 97 98 Mickey Mouse \n",
      "\n",
      "b) The resulted tuple is: \n",
      "(1, 2, 'Donald', 4, 'Duck', 'Donald', 7, 8, 'Donald', 'Duck', 11, 'Donald', 13, 14, 'DonaldDuck', 16, 17, 'Donald', 19, 'Duck', 'Donald', 22, 23, 'Donald', 'Duck', 26, 'Donald', 28, 29, 'DonaldDuck', 31, 32, 'Donald', 34, 'Duck', 'Donald', 37, 38, 'Donald', 'Duck', 41, 'Donald', 43, 44, 'DonaldDuck', 46, 47, 'Donald', 49, 'Duck', 'Donald', 52, 53, 'Donald', 'Duck', 56, 'Donald', 58, 59, 'DonaldDuck', 61, 62, 'Donald', 64, 'Duck', 'Donald', 67, 68, 'Donald', 'Duck', 71, 'Donald', 73, 74, 'DonaldDuck', 76, 77, 'Donald', 79, 'Duck', 'Donald', 82, 83, 'Donald', 'Duck', 86, 'Donald', 88, 89, 'DonaldDuck', 91, 92, 'Donald', 94, 'Duck', 'Donald', 97, 98, 'Donald', 'Duck')\n"
     ]
    }
   ],
   "source": [
    "#Point a)\n",
    "\n",
    "print(\"a) The modified sequence of numbers from 1 to 100 is: \")\n",
    "\n",
    "for i in range (1,101):\n",
    "    \n",
    "    #if i is multiple of three and five\n",
    "    if i%3==0 and i%5==0:\n",
    "        print(\"MickeyMouse\",end=\" \")\n",
    "        \n",
    "    #if i is multiple of three\n",
    "    elif i%3==0:\n",
    "        print(\"Mickey\",end=\" \")\n",
    "        \n",
    "    #if i is multiple of five\n",
    "    elif i%5==0:\n",
    "        print(\"Mouse\",end=\" \")\n",
    "        \n",
    "    #otherwise\n",
    "    else:\n",
    "        print(i,end=\" \")\n",
    "        \n",
    "print()  \n",
    "print()\n",
    "\n",
    "#Point b)\n",
    "#Initially I used a list, because lists are mutable (so I could insert and substitute elements without problems)\n",
    "\n",
    "print(\"b) The resulted tuple is: \")\n",
    "my_list = []\n",
    "\n",
    "for i in range (1,101):\n",
    "    \n",
    "    if i%3==0 and i%5==0:\n",
    "        my_list.append(\"DonaldDuck\")\n",
    "        \n",
    "    elif i%3==0:\n",
    "        my_list.append(\"Donald\")\n",
    "        \n",
    "    elif i%5==0:\n",
    "        my_list.append(\"Duck\")\n",
    "        \n",
    "    else:\n",
    "        my_list.append(i)\n",
    "\n",
    "my_tuple=tuple(my_list)\n",
    "print(my_tuple)\n"
   ]
  },
  {
   "cell_type": "markdown",
   "metadata": {},
   "source": [
    "2\\. The swap function\n",
    "\n",
    "Write a function that swap the values of two input variables x and y (whatever the type). Try to do that also without a temporary variable"
   ]
  },
  {
   "cell_type": "code",
   "execution_count": 103,
   "metadata": {},
   "outputs": [],
   "source": [
    "#Function my_swap1 swaps the values of two input variables with the help of a temporary variable\n",
    "def my_swap1(x,y):\n",
    "    temp=x\n",
    "    x=y\n",
    "    y=temp\n",
    "    return (x,y)\n",
    "\n",
    "#Function my_swap2 swaps the values of two input variables without the help of a temporary variable\n",
    "def my_swap2(x,y):\n",
    "    x,y = y,x\n",
    "    return (x,y)"
   ]
  },
  {
   "cell_type": "markdown",
   "metadata": {},
   "source": [
    "3\\. Computing the distance\n",
    "\n",
    "Write a function that calculates and returns the euclidean distance between two points *u* and *v*, where *u* and *v* are both 2-tuples *(x,y)*. For example, if *u=(3,0)* and *v=(0,4)*, the function should return 5"
   ]
  },
  {
   "cell_type": "code",
   "execution_count": 105,
   "metadata": {},
   "outputs": [
    {
     "name": "stdout",
     "output_type": "stream",
     "text": [
      "E.g.: The euclidean distance between u=(3,0) and v=(0,4) is: 5.0\n"
     ]
    }
   ],
   "source": [
    "#Function euclidean_distance returns the euclidean distance between two points (round to two decimal places)\n",
    "def euclidean_distance(u,v):\n",
    "    import math\n",
    "    x1,y1=u\n",
    "    x2,y2=v\n",
    "    return round(math.sqrt((x1-x2)**2+(y1-y2)**2),2)\n",
    "\n",
    "print(\"E.g.: The euclidean distance between u=(3,0) and v=(0,4) is:\", euclidean_distance((3,0),(0,4)))"
   ]
  },
  {
   "cell_type": "markdown",
   "metadata": {},
   "source": [
    "4\\. Counting letters\n",
    "\n",
    "Write a program to calculate the number of times each character occurs in a given string *s*. Ignore differneces in capitalization"
   ]
  },
  {
   "cell_type": "code",
   "execution_count": 107,
   "metadata": {
    "scrolled": true
   },
   "outputs": [
    {
     "name": "stdout",
     "output_type": "stream",
     "text": [
      "E.g.: The character r occurs in the string s 17 times\n"
     ]
    }
   ],
   "source": [
    "s=\"Write a program that prints the numbers from 1 to 100. \\\n",
    "But for multiples of three print Mickey instead of the number and for the multiples of five print Mouse. \\\n",
    "For numbers which are multiples of both three and five print MickeyMouse\"\n",
    "\n",
    "#Function count_character calculates the number of times each character occurs in a given string\n",
    "def count_character(string, character):\n",
    "       n = 0\n",
    "       for i in string:\n",
    "           if i.lower() == character.lower():\n",
    "               n += 1\n",
    "       return n\n",
    "\n",
    "print(\"E.g.: The character r occurs in the string s\", count_character(s,\"r\"),\"times\")"
   ]
  },
  {
   "cell_type": "markdown",
   "metadata": {},
   "source": [
    "5\\. Isolating the unique\n",
    "\n",
    "Write a function that determines and count the unique numbers in the list *l*"
   ]
  },
  {
   "cell_type": "code",
   "execution_count": 108,
   "metadata": {},
   "outputs": [
    {
     "name": "stdout",
     "output_type": "stream",
     "text": [
      "The unique numbers in the list are  54  and they are specifically:  [36, 45, 58, 3, 74, 96, 64, 31, 10, 24, 19, 33, 86, 99, 18, 63, 70, 85, 47, 56, 42, 84, 88, 55, 20, 54, 8, 51, 79, 81, 57, 37, 91, 1, 66, 9, 89, 50, 95, 90, 98, 39, 16, 82, 92, 41, 30, 34, 94, 5, 72, 87, 75, 53]\n"
     ]
    }
   ],
   "source": [
    "l = [36, 45, 58, 3, 74, 96, 64, 45, 31, 10, 24, 19, 33, 86, 99, 18, 63, 70, 85,\n",
    " 85, 63, 47, 56, 42, 70, 84, 88, 55, 20, 54, 8, 56, 51, 79, 81, 57, 37, 91,\n",
    " 1, 84, 84, 36, 66, 9, 89, 50, 42, 91, 50, 95, 90, 98, 39, 16, 82, 31, 92, 41,\n",
    " 45, 30, 66, 70, 34, 85, 94, 5, 3, 36, 72, 91, 84, 34, 87, 75, 53, 51, 20, 89, 51, 20]\n",
    "\n",
    "#The function unique determines and counts the unique numbers in a given list\n",
    "def unique(lst):\n",
    "    list1 = [] \n",
    "    count = 0\n",
    "    for i in lst: \n",
    "        if i not in list1: \n",
    "            count += 1\n",
    "            list1.append(i) \n",
    "    return [count, list1]\n",
    "\n",
    "print(\"The unique numbers in the list are \", unique(l)[0],\" and they are specifically: \",unique(l)[1])"
   ]
  },
  {
   "cell_type": "markdown",
   "metadata": {},
   "source": [
    "6\\. Combination of functions\n",
    "\n",
    "Write two functions - one that returns the square of a number, and one that returns the cube. Now write a third function that returns the number raised to the 6th power using the two previous functions."
   ]
  },
  {
   "cell_type": "code",
   "execution_count": 109,
   "metadata": {},
   "outputs": [],
   "source": [
    "def square(num):\n",
    "    return pow(num,2)\n",
    "\n",
    "def cube(num):\n",
    "    return pow(num,3)\n",
    "\n",
    "#We consider the property of exponents: when we multiply powers with the same base, we add the exponents.\n",
    "def six_power(num):\n",
    "    return num*square(num)*cube(num)"
   ]
  },
  {
   "cell_type": "markdown",
   "metadata": {},
   "source": [
    "7\\. Cubes\n",
    "\n",
    "Create a list of the cubes of x for x in *[0, 10]* using:\n",
    "\n",
    "a) a for loop\n",
    "\n",
    "b) a list comprehension"
   ]
  },
  {
   "cell_type": "code",
   "execution_count": 111,
   "metadata": {},
   "outputs": [
    {
     "name": "stdout",
     "output_type": "stream",
     "text": [
      "a) List of cubes obtained using a for loop is:  [0, 1, 8, 27, 64, 125, 216, 343, 512, 729, 1000]\n",
      "b) List of cubes obtained using a list comprehension is:  [0, 1, 8, 27, 64, 125, 216, 343, 512, 729, 1000]\n"
     ]
    }
   ],
   "source": [
    "#a) List obtained using a for loop\n",
    "lst_cube1 = []\n",
    "for i in range(0,11):\n",
    "    lst_cube1.append(pow(i,3))\n",
    "print(\"a) List of cubes obtained using a for loop is: \",lst_cube1)\n",
    "\n",
    "#b) List obtained using a list comprehension\n",
    "lst2=list(range(0, 11))\n",
    "lst_cube2 = list(map(lambda x: x ** 3, lst2))\n",
    "print(\"b) List of cubes obtained using a list comprehension is: \",lst_cube2)\n"
   ]
  },
  {
   "cell_type": "markdown",
   "metadata": {},
   "source": [
    "8\\. Nested list comprehension\n",
    "\n",
    "A Pythagorean triple is an integer solution to the Pythagorean theorem $a^2+b^2=c^2$. The first Pythagorean triple is (3,4,5). Find and put in a tuple all unique Pythagorean triples for the positive integers a, b and c less than 100."
   ]
  },
  {
   "cell_type": "code",
   "execution_count": 113,
   "metadata": {},
   "outputs": [
    {
     "name": "stdout",
     "output_type": "stream",
     "text": [
      "The desired pythagorean triples are:\n",
      "('3 4 5', '6 8 10', '5 12 13', '9 12 15', '8 15 17', '12 16 20', '15 20 25', '20 21 29', '7 24 25', '10 24 26', '18 24 30', '21 28 35', '16 30 34', '24 32 40', '12 35 37', '15 36 39', '27 36 45', '9 40 41', '30 40 50', '40 42 58', '33 44 55', '24 45 51', '28 45 53', '14 48 50', '20 48 52', '36 48 60', '39 52 65', '48 55 73', '33 56 65', '42 56 70', '11 60 61', '25 60 65', '32 60 68', '45 60 75', '16 63 65', '60 63 87', '48 64 80', '51 68 85', '24 70 74', '21 72 75', '30 72 78', '54 72 90', '65 72 97', '40 75 85', '57 76 95', '36 77 85', '18 80 82', '39 80 89', '60 80 100', '13 84 85', '35 84 91', '63 84 105', '80 84 116', '66 88 110', '48 90 102', '56 90 106', '60 91 109', '69 92 115', '28 96 100', '40 96 104', '72 96 120', '20 99 101')\n"
     ]
    }
   ],
   "source": [
    "ls=[]\n",
    "import math\n",
    "\n",
    "#Function pythagorean_triplet puts in a tuple all unique Pythagorean triples for the positive integers a, b and c less than 100.\n",
    "#We consider that if c<100 also a and b will be <100\n",
    "\n",
    "def pythagorean_triplet(n):\n",
    "  for b in range(n):\n",
    "    for a in range(1, b):\n",
    "        c = math.sqrt( a * a + b * b)\n",
    "        if c % 1 == 0:\n",
    "            t = str(a)+\" \"+str(b)+\" \"+str(int(c))\n",
    "            ls.append(t)\n",
    "    tup = tuple(ls)\n",
    "  return tup         \n",
    "\n",
    "print(\"The desired pythagorean triples are:\")\n",
    "print(pythagorean_triplet(100))"
   ]
  },
  {
   "cell_type": "markdown",
   "metadata": {},
   "source": [
    "9\\. Normalization\n",
    "\n",
    "Write a function that takes a tuple of numbers and returns it with the entries normalized to one"
   ]
  },
  {
   "cell_type": "code",
   "execution_count": 1,
   "metadata": {},
   "outputs": [],
   "source": [
    "#Function normalized_to_one takes a tuple of numbers and returns it with the entries normalized to one\n",
    "def normalized_to_one(a):\n",
    "    b=list(a)\n",
    "    amin, amax = min(b), max(b)\n",
    "    for i, val in enumerate(b):\n",
    "         b[i] = (val-amin) / (amax-amin)\n",
    "            \n",
    "    return tuple(b)\n"
   ]
  }
 ],
 "metadata": {
  "kernelspec": {
   "display_name": "Python 3",
   "language": "python",
   "name": "python3"
  },
  "language_info": {
   "codemirror_mode": {
    "name": "ipython",
    "version": 3
   },
   "file_extension": ".py",
   "mimetype": "text/x-python",
   "name": "python",
   "nbconvert_exporter": "python",
   "pygments_lexer": "ipython3",
   "version": "3.8.3"
  }
 },
 "nbformat": 4,
 "nbformat_minor": 2
}
