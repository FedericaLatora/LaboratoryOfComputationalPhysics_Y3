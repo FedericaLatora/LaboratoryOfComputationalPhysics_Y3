{
 "cells": [
  {
   "cell_type": "markdown",
   "metadata": {},
   "source": [
    "1\\. Write a function that converts number representation (bin<->dec<->hex)"
   ]
  },
  {
   "cell_type": "code",
   "execution_count": 1,
   "metadata": {},
   "outputs": [
    {
     "name": "stdout",
     "output_type": "stream",
     "text": [
      "The binary representation of 18 is: 0b10010 and the hexadecimal representation is: 0x12\n"
     ]
    }
   ],
   "source": [
    "#This function converts number in input in the other two representation bin<->dec<->hex\n",
    "\n",
    "def converter(n):\n",
    "    \n",
    "    #Convert the input number into a string and extract the second character\n",
    "    rep = str(n)[1] \n",
    "    \n",
    "    #The second character of a number expressed in binary representation is 'b' \n",
    "    if rep=='b':\n",
    "        dec = int(str(n),2)\n",
    "        hexa = hex(dec)\n",
    "        return [dec,hexa]\n",
    "    \n",
    "    #The second character of a number expressed in hexadecimal representation is 'x'\n",
    "    elif rep=='x': \n",
    "        dec = int(str(n),16)\n",
    "        bina = bin(dec)\n",
    "        return [bina,dec]\n",
    "    \n",
    "    #Otherwise, the number is expressed in decimal representation\n",
    "    else: \n",
    "        bina = bin(n)\n",
    "        hexa = hex(n)\n",
    "        return [bina,hexa]\n",
    "    \n",
    "#Example\n",
    "x = 18\n",
    "print(\"The binary representation of\",x,\"is:\",converter(18)[0],\"and the hexadecimal representation is:\",converter(18)[1])"
   ]
  },
  {
   "cell_type": "markdown",
   "metadata": {},
   "source": [
    "2\\. Write a function that converts a 32 bit word into a single precision floating point (i.e. interprets the various bits as sign, mantissa and exponent)"
   ]
  },
  {
   "cell_type": "code",
   "execution_count": 2,
   "metadata": {},
   "outputs": [
    {
     "name": "stdout",
     "output_type": "stream",
     "text": [
      "The float value of 00000011111000000000000000000000 is: 1.316553672920962e-36\n"
     ]
    }
   ],
   "source": [
    "#Function ConvertToFloat converts a 32 bit word into a single precision floating point\n",
    "\n",
    "def ConvertToFloat(n): \n",
    "    \n",
    "    # First bit will be SIGN bit\n",
    "    sign_bit = int(n[0]) \n",
    "  \n",
    "    # Next 8 bits will be EXPONENT bits in biased form\n",
    "    # In 32 bit format bias value is 127 so to have unbiased exponent subtract 127\n",
    "    exponent_bias = int(n[1 : 9], 2) \n",
    "    exponent_unbias = exponent_bias - 127\n",
    "  \n",
    "    # Next 23 Bits will be MANTISSA (1.M format) \n",
    "    # Convert 23 binary bits into 1.M real no. form \n",
    "    mantissa_str = n[9 : ] \n",
    "    power_count = -1\n",
    "    mantissa_int = 0 # variable to store float value of mantissa. \n",
    "    for i in mantissa_str: \n",
    "        mantissa_int += (int(i) * pow(2, power_count)) \n",
    "        power_count -= 1\n",
    "    mantissa_int +=1\n",
    "    \n",
    "    # The final real no. obtained by sign bit, mantissa and exponent. \n",
    "    real_no = pow(-1, sign_bit) * mantissa_int * pow(2, exponent_unbias) \n",
    "    \n",
    "    print(\"The float value of\",n, \"is:\",real_no) \n",
    "    \n",
    "    \n",
    "#Example from lecture \"02_NumberRepresentation\"   \n",
    "ConvertToFloat('00000011111000000000000000000000')"
   ]
  },
  {
   "cell_type": "markdown",
   "metadata": {},
   "source": [
    "3\\. Write a program to determine the underflow and overflow limits (within a factor of 2) for python on your computer. \n",
    "\n",
    "**Tips**: define two variables inizialized to 1 and halve/double them enough time to exceed the under/over-flow limits  "
   ]
  },
  {
   "cell_type": "code",
   "execution_count": null,
   "metadata": {},
   "outputs": [],
   "source": [
    "#This program determines the underflow and overflow limits (within a factor of 2) for python on your computer.\n",
    "\n",
    "under = 1\n",
    "over = 1\n",
    "\n",
    "while over < float('Inf'):\n",
    "    over = over*2\n",
    "\n",
    "while under > 0:\n",
    "    under = under/2\n",
    "\n",
    "print(\"Overflow limit:\",over)\n",
    "print(\"Underflow limit:\",under)"
   ]
  },
  {
   "cell_type": "markdown",
   "metadata": {},
   "source": [
    "4\\. Write a program to determine the machine precision\n",
    "\n",
    "**Tips**: define a new variable by adding a smaller and smaller value (proceeding similarly to prob. 2) to an original variable and check the point where the two are the same "
   ]
  },
  {
   "cell_type": "code",
   "execution_count": 7,
   "metadata": {},
   "outputs": [
    {
     "name": "stdout",
     "output_type": "stream",
     "text": [
      "The minimum value near 1 that we can reach is: 1.0000000000000002\n",
      "The machine precision is: 2e-16\n"
     ]
    }
   ],
   "source": [
    "#This program determines the machine precision\n",
    "\n",
    "original_variable = 1\n",
    "small_value = 1\n",
    "\n",
    "for i in range(1,100):\n",
    "    \n",
    "    small_value = small_value/2\n",
    "    new_variable =original_variable + small_value\n",
    "    \n",
    "    if new_variable == original_variable:\n",
    "        break\n",
    "        \n",
    "    value = new_variable #the value before the last breaks the cycle\n",
    "    \n",
    "print(\"The minimum value near\", original_variable, \"that we can reach is:\",value)    \n",
    "print(\"The machine precision is:\", round(value-original_variable,16))"
   ]
  },
  {
   "cell_type": "markdown",
   "metadata": {},
   "source": [
    "5\\. Write a function that takes in input three parameters $a$, $b$ and $c$ and prints out the two solutions to the quadratic equation $ax^2+bx+c=0$ using the standard formula:\n",
    "$$\n",
    "x=\\frac{-b\\pm\\sqrt{b^2-4ac}}{2a}\n",
    "$$\n",
    "\n",
    "(a) use the program to compute the solution for $a=0.001$, $b=1000$ and $c=0.001$\n",
    "\n",
    "(b) re-express the standard solution formula by multiplying top and bottom by $-b\\mp\\sqrt{b^2-4ac}$ and again find the solution for $a=0.001$, $b=1000$ and $c=0.001$. How does it compare with what previously obtained? Why?\n",
    "\n",
    "(c) write a function that compute the roots of a quadratic equation accurately in all cases"
   ]
  },
  {
   "cell_type": "code",
   "execution_count": 10,
   "metadata": {},
   "outputs": [
    {
     "name": "stdout",
     "output_type": "stream",
     "text": [
      "Using the standard forumla, the two solutions are: [-9.999894245993346e-07, -999999.999999]\n",
      "Using the re-expressed standard forumla, the two solutions are: [-1.000000000001e-06, 1000010.5755125057]\n",
      "The correct solutions are: [-1.000000000001e-06, -999999.999999]\n"
     ]
    }
   ],
   "source": [
    "from math import sqrt\n",
    "\n",
    "a = 0.001\n",
    "b = 1000\n",
    "c = 0.001\n",
    "\n",
    "#a) This function compute the two solutions to a quadratic equation using the standard formula\n",
    "\n",
    "def solution1(a,b,c):\n",
    "\n",
    "    x1 = (-b + sqrt(b**2 -4*a*c))/(2*a)\n",
    "    x2 = (-b - sqrt(b**2 -4*a*c))/(2*a)\n",
    "    \n",
    "    return [x1, x2]\n",
    "\n",
    "print(\"Using the standard forumla, the two solutions are:\",solution1(a,b,c))\n",
    "\n",
    "#b) This function compute the two solutions to a quadratic equation using the re-express standard formula\n",
    "\n",
    "def solution2(a,b,c):\n",
    "    \n",
    "    x1 = (2*c)/(-b - sqrt(b**2 -4*a*c)) \n",
    "    x2 = (-2*c)/(-b + sqrt(b**2 -4*a*c))\n",
    "   \n",
    "    return [x1, x2] #values returned from function multiplied by -b +- sqrt(b**2-4ac)\n",
    "\n",
    "print(\"Using the re-expressed standard forumla, the two solutions are:\",solution2(a,b,c))\n",
    "\n",
    "#-------------Comments------------#\n",
    "\n",
    "\"\"\"\n",
    "The two results are different. In particular, for the first solution x1 the better result is the one obtained with \n",
    "the second  function, because the division 2c /(-b – sqrt(b**2-4ac)) is between two numbers neither very large nor very small. \n",
    "Indeed, with the first function, the result is not correct because the division (-b + sqrt(b**2-4ac))/2a is between two numbers\n",
    "very small and so it does not work well. \"\n",
    "\n",
    "\n",
    "Indeed, for the second solution x2 the better result is the one obtained with the first function, because the division\n",
    "(-b – sqrt(b**2-4ac))/2a is between two numbers neither very large nor very small. Indeed, with the second function, \n",
    "the result is not correct because the division -2c/(-b + sqrt(b**2-4ac)) is between two numbers very small and so it does\n",
    "not work well. \n",
    "\n",
    "This happends because calculations involving numbers with a lot of decimal places involved do not yield the correct result, \n",
    "simply because the binary representation of those numbers could not store them properly.\n",
    "\"\"\"\n",
    "\n",
    "#c)\n",
    "#This function compute the first solution using the standard formula and the second using the re-expressed standard formula\n",
    "\n",
    "def solution3(a,b,c):\n",
    "    \n",
    "    x1 = (2*c)/(-b - sqrt(b**2 -4*a*c)) \n",
    "    x2 = (-b - sqrt(b**2 -4*a*c))/(2*a)\n",
    "    \n",
    "    return [x1,x2]\n",
    "\n",
    "print(\"The correct solutions are:\",solution3(a,b,c))\n"
   ]
  },
  {
   "cell_type": "markdown",
   "metadata": {},
   "source": [
    "6\\. Write a program that implements the function $f(x)=x(x−1)$\n",
    "\n",
    "(a) Calculate the derivative of the function at the point $x = 1$ using the derivative definition:\n",
    "\n",
    "$$\n",
    "\\frac{{\\rm d}f}{{\\rm d}x} = \\lim_{\\delta\\to0} \\frac{f(x+\\delta)-f(x)}{\\delta}\n",
    "$$\n",
    "\n",
    "with $\\delta = 10^{−2}$. Calculate the true value of the same derivative analytically and compare with the answer your program gives. The two will not agree perfectly. Why not?\n",
    "\n",
    "(b) Repeat the calculation for $\\delta = 10^{−4}, 10^{−6}, 10^{−8}, 10^{−10}, 10^{−12}$ and $10^{−14}$. How does the accuracy scales with $\\delta$?"
   ]
  },
  {
   "cell_type": "code",
   "execution_count": 17,
   "metadata": {},
   "outputs": [
    {
     "name": "stdout",
     "output_type": "stream",
     "text": [
      "Delta= 0.01 \n",
      " With derivative definition: 1.010000000000001 \n",
      " Analytically:  1 \n",
      " Accuracy 0.010000000000000897 \n",
      "\n",
      "Delta= 0.0001 \n",
      " With derivative definition: 1.0000999999998899 \n",
      " Accuracy 9.999999988985486e-05 \n",
      "\n",
      "Delta= 1e-06 \n",
      " With derivative definition: 1.0000009999177333 \n",
      " Accuracy 9.99917733279787e-07 \n",
      "\n",
      "Delta= 1e-08 \n",
      " With derivative definition: 1.0000000039225287 \n",
      " Accuracy 3.922528746258536e-09 \n",
      "\n",
      "Delta= 1e-10 \n",
      " With derivative definition: 1.000000082840371 \n",
      " Accuracy 8.284037100736441e-08 \n",
      "\n",
      "Delta= 1e-12 \n",
      " With derivative definition: 1.0000889005833413 \n",
      " Accuracy 8.890058334132256e-05 \n",
      "\n",
      "Delta= 1e-14 \n",
      " With derivative definition: 0.9992007221626509 \n",
      " Accuracy 0.0007992778373491216 \n",
      "\n",
      "It seems that accuracy scales linearly for the first two delta, then it varies due to the very small number involved\n"
     ]
    }
   ],
   "source": [
    "def function(x):\n",
    "    return x*(x-1)\n",
    "\n",
    "#a)\n",
    "def derivative1(x,delta):\n",
    "    \n",
    "    der1 = (function(x+delta)-function(x))/delta\n",
    "    der2 = 2*x -1 #analytically =1\n",
    "    accuracy = der1 - der2    \n",
    "    print(\"Delta=\",delta,'\\n',\"With derivative definition:\",der1,'\\n',\"Analytically: \",der2,'\\n',\"Accuracy\",der1-der2,'\\n')\n",
    "\n",
    "derivative1(1,10**-2)\n",
    "    \n",
    "#b)\n",
    "deltas = [10**-4,10**-6,10**-8,10**-10,10**-12,10**-14]\n",
    "accuracy = []\n",
    "\n",
    "def derivative2(x,deltas):\n",
    "\n",
    "    for i in deltas:\n",
    "        \n",
    "        der1 = (function(x+i)-function(x))/i \n",
    "        der2 = 2*x -1 #analytically =1\n",
    "        print(\"Delta=\",i,'\\n',\"With derivative definition:\",der1,'\\n',\"Accuracy\",abs(der1-der2),'\\n')\n",
    "    \n",
    "derivative2(1,deltas)\n",
    "\n",
    "print(\"It seems that accuracy scales linearly for the first two delta, then it varies due to the very small number involved\")\n"
   ]
  },
  {
   "cell_type": "markdown",
   "metadata": {},
   "source": [
    "7\\. Consider the integral of the semicircle of radius 1:\n",
    "$$\n",
    "I=\\int_{-1}^{1} \\sqrt(1-x^2) {\\rm d}x\n",
    "$$\n",
    "which it's known to be $I=\\frac{\\pi}{2}=1.57079632679...$.\n",
    "Alternatively we can use the Riemann definition of the integral:\n",
    "$$\n",
    "I=\\lim_{N\\to\\infty} \\sum_{k=1}^{N} h y_k \n",
    "$$\n",
    "\n",
    "with $h=2/N$ the width of each of the $N$ slices the domain is divided into and where\n",
    "$y_k$ is the value of the function at the $k-$th slice.\n",
    "\n",
    "(a) Write a programe to compute the integral with $N=100$. How does the result compares to the true value?\n",
    "\n",
    "(b) How much can $N$ be increased if the computation needs to be run in less than a second? What is the gain in running it for 1 minute? \n"
   ]
  },
  {
   "cell_type": "code",
   "execution_count": 19,
   "metadata": {},
   "outputs": [
    {
     "name": "stdout",
     "output_type": "stream",
     "text": [
      "The integral with the Riemann definition with N=100 is: 1.5691342555492505\n",
      "The difference between the true value and the value obtained with the Riemann definition is: 0.0016620712456461018 \n",
      "\n",
      "With N=10e5 the simulation runs in: 0.05580735206604004 \n",
      " So N=10e5 is the maximum value for which the simulation runs in less than a second \n",
      "\n",
      "Indeed, with N=10e6 the simulation runs in: 0.4776191711425781\n"
     ]
    }
   ],
   "source": [
    "from math import sqrt, pi\n",
    "import time\n",
    "\n",
    "#a) The function integral(N) computes the integral of the semicircle of radius 1 using the Riemann definition and\n",
    "#the difference between this value and the real one (= pi)\n",
    "\n",
    "def integral(N):\n",
    "    \n",
    "    h=2/N #width of each of the N slices = (b-a) / N, where a = -1 and b = 1 are the extremes of integration\n",
    "    \n",
    "    #Set f(x) = sqrt(1-x**2) we have y_k = f(x_k), where x_k = a + h*k\n",
    "    x_k = []\n",
    "    for k in range(N):\n",
    "        x_k.append(-1 + h*k)\n",
    "        \n",
    "    y_k = [] #value of the function at the k-th slice\n",
    "    for i in range(N):\n",
    "        y_k.append(sqrt(1-x_k[i]**2))\n",
    "        \n",
    "    I_sum = 0 #value of integral I \n",
    "    for i in range(N):\n",
    "        I_sum += h*y_k[i]\n",
    "    \n",
    "    accuracy = abs(I_sum - (pi/2))\n",
    "    \n",
    "    return [I_sum, accuracy]\n",
    "\n",
    "print(\"The integral with the Riemann definition with N=100 is:\", integral(100)[0])\n",
    "print(\"The difference between the true value and the value obtained with the Riemann definition is:\",integral(100)[1],'\\n')\n",
    "\n",
    "#The result are not identical, because with the Riemann definition calculations involving numbers with decimal places\n",
    "#involved do not yield the correct result, simply because the binary representation of those numbers could not store them properly.\n",
    "\n",
    "#b) \n",
    "\n",
    "start_time = time.time()\n",
    "integral(10**5)\n",
    "time1 = time.time()-start_time\n",
    "print(\"With N=10e5 the simulation runs in:\", time1,'\\n',\"So N=10e5 is the maximum value for which the simulation runs in less than a second\",'\\n')\n",
    "\n",
    "start_time = time.time()\n",
    "integral(10**6)\n",
    "time2 = time.time()-start_time\n",
    "print(\"Indeed, with N=10e6 the simulation runs in:\",time2)"
   ]
  },
  {
   "cell_type": "code",
   "execution_count": null,
   "metadata": {},
   "outputs": [],
   "source": []
  }
 ],
 "metadata": {
  "kernelspec": {
   "display_name": "Python 3",
   "language": "python",
   "name": "python3"
  },
  "language_info": {
   "codemirror_mode": {
    "name": "ipython",
    "version": 3
   },
   "file_extension": ".py",
   "mimetype": "text/x-python",
   "name": "python",
   "nbconvert_exporter": "python",
   "pygments_lexer": "ipython3",
   "version": "3.8.3"
  }
 },
 "nbformat": 4,
 "nbformat_minor": 2
}
