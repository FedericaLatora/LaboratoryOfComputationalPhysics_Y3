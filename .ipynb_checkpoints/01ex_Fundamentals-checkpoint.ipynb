{
 "cells": [
  {
   "cell_type": "markdown",
   "metadata": {},
   "source": [
    "1\\. Write the following as a list comprehension"
   ]
  },
  {
   "cell_type": "code",
   "execution_count": 1,
   "metadata": {},
   "outputs": [
    {
     "name": "stdout",
     "output_type": "stream",
     "text": [
      "[(0, 0), (0, 1), (0, 2), (0, 3), (1, 0), (1, 1), (1, 2), (1, 3), (2, 0), (2, 1), (2, 2), (2, 3)]\n",
      "[0, 4, 16]\n"
     ]
    }
   ],
   "source": [
    "# 1\n",
    "ans = []\n",
    "for i in range(3):\n",
    "    for j in range(4):\n",
    "        ans.append((i, j))\n",
    "print (ans)\n",
    "\n",
    "# 2\n",
    "ans = map(lambda x: x*x, filter(lambda x: x%2 == 0, range(5)))\n",
    "print (list(ans))"
   ]
  },
  {
   "cell_type": "code",
   "execution_count": 1,
   "metadata": {},
   "outputs": [
    {
     "name": "stdout",
     "output_type": "stream",
     "text": [
      "[(0, 0), (0, 1), (0, 2), (0, 3), (1, 0), (1, 1), (1, 2), (1, 3), (2, 0), (2, 1), (2, 2), (2, 3)]\n",
      "[0, 4, 16]\n"
     ]
    }
   ],
   "source": [
    "# 1 : List comprehension\n",
    "print ([(i, j) for i in range(3) for j in range(4)])\n",
    "\n",
    "# 2 : List comprehension\n",
    "print([x*x for x in range(5) if x%2==0])"
   ]
  },
  {
   "cell_type": "markdown",
   "metadata": {},
   "source": [
    "2\\. Convert the following function into a pure function with no global variables or side effects"
   ]
  },
  {
   "cell_type": "code",
   "execution_count": 1,
   "metadata": {},
   "outputs": [
    {
     "name": "stdout",
     "output_type": "stream",
     "text": [
      "[1, 2, 3, 0, 1, 2, 3, 4]\n",
      "[1, 2, 3, 0, 1, 2, 3, 4]\n"
     ]
    }
   ],
   "source": [
    "x = 5\n",
    "def f(alist):\n",
    "    for i in range(x):\n",
    "         alist.append(i)\n",
    "    return alist\n",
    "\n",
    "alist = [1,2,3]\n",
    "ans = f(alist)\n",
    "print (ans)\n",
    "print (alist) # alist has been changed!"
   ]
  },
  {
   "cell_type": "code",
   "execution_count": 3,
   "metadata": {},
   "outputs": [
    {
     "name": "stdout",
     "output_type": "stream",
     "text": [
      "[1, 2, 3, 0, 1, 2, 3, 4]\n",
      "[1, 2, 3]\n"
     ]
    }
   ],
   "source": [
    "#Pure function with no global variables or side effects:\n",
    "\n",
    "def f(alist):\n",
    "    x=5\n",
    "    alist = alist[:]\n",
    "    for i in range(x):\n",
    "         alist.append(i)\n",
    "    return alist\n",
    "\n",
    "alist = [1,2,3]\n",
    "ans = f(alist)\n",
    "print (ans)\n",
    "print (alist) #Now alist has not been changed!"
   ]
  },
  {
   "cell_type": "markdown",
   "metadata": {},
   "source": [
    "3\\. Write a `decorator` hello that makes every wrapped function print “Hello!”, i.e. something like:\n",
    "\n",
    "```python\n",
    "@hello\n",
    "def square(x):\n",
    "    return x*x\n",
    "```\n",
    "\n"
   ]
  },
  {
   "cell_type": "code",
   "execution_count": 4,
   "metadata": {},
   "outputs": [
    {
     "name": "stdout",
     "output_type": "stream",
     "text": [
      "Hello!\n"
     ]
    }
   ],
   "source": [
    "#Decorator hello that makes every wrapped function print “Hello!”\n",
    "def hello(func):\n",
    "    def wrapper():\n",
    "        print(\"Hello!\")\n",
    "    return wrapper\n",
    "\n",
    "#For example:\n",
    "@hello\n",
    "def square(x):\n",
    "    return x*x\n",
    "\n",
    "square()"
   ]
  },
  {
   "cell_type": "markdown",
   "metadata": {},
   "source": [
    "4\\. Write the factorial function so that it a) does and b) does not use recursion."
   ]
  },
  {
   "cell_type": "code",
   "execution_count": 5,
   "metadata": {},
   "outputs": [],
   "source": [
    "#a) Factorial function that uses recursion\n",
    "def factorial1(n):\n",
    "   if n == 1:\n",
    "       return n\n",
    "   else:\n",
    "       return n*factorial1(n-1)\n",
    "\n",
    "#b) Factorial function that does not use recursion\n",
    "def factorial2(n):\n",
    "    fact = 1\n",
    "    for i in range(1,n+1):\n",
    "        fact = fact * i \n",
    "    return fact"
   ]
  },
  {
   "cell_type": "markdown",
   "metadata": {},
   "source": [
    "5\\. Use HOFs (zip in particular) to compute the weight of a circle, a disk and a sphere, assuming different radii and different densities:\n",
    "\n",
    "```python\n",
    "densities = {\"Al\":[0.5,1,2],\"Fe\":[3,4,5],\"Pb\": [15,20,30]}\n",
    "radii = [1,2,3]\n",
    "```\n",
    "\n",
    "where the entries of the dictionary's values are the linear, superficial and volumetric densities of the materials respectively.\n",
    "\n",
    "In particular define a list of three lambda functions using a comprehension that computes the circumference, the area and the volume for a given radius.\n"
   ]
  },
  {
   "cell_type": "code",
   "execution_count": 8,
   "metadata": {},
   "outputs": [
    {
     "name": "stdout",
     "output_type": "stream",
     "text": [
      "Weights with density of Al and radii 1 of: \n",
      "\n",
      " circle  3.14 \n",
      " disk    3.14 \n",
      " sphere  8.38 \n",
      "\n",
      "Weights with density of Fe and radii 1 of: \n",
      "\n",
      " circle  18.84 \n",
      " disk    12.56 \n",
      " sphere  20.95 \n",
      "\n",
      "Weights with density of Pb and radii 1 of: \n",
      "\n",
      " circle  94.2 \n",
      " disk    62.8 \n",
      " sphere  125.7 \n",
      "\n",
      "Weights with density of Al and radii 2 of: \n",
      "\n",
      " circle  6.29 \n",
      " disk    12.57 \n",
      " sphere  67.02 \n",
      "\n",
      "Weights with density of Fe and radii 2 of: \n",
      "\n",
      " circle  37.71 \n",
      " disk    50.28 \n",
      " sphere  167.55 \n",
      "\n",
      "Weights with density of Pb and radii 2 of: \n",
      "\n",
      " circle  188.55 \n",
      " disk    251.4 \n",
      " sphere  1005.3 \n",
      "\n",
      "Weights with density of Al and radii 3 of: \n",
      "\n",
      " circle  9.43 \n",
      " disk    28.27 \n",
      " sphere  226.2 \n",
      "\n",
      "Weights with density of Fe and radii 3 of: \n",
      "\n",
      " circle  56.55 \n",
      " disk    113.08 \n",
      " sphere  565.5 \n",
      "\n",
      "Weights with density of Pb and radii 3 of: \n",
      "\n",
      " circle  282.75 \n",
      " disk    565.4 \n",
      " sphere  3393.0 \n",
      "\n"
     ]
    }
   ],
   "source": [
    "import math\n",
    "\n",
    "densities = {\"Al\":[0.5,1,2],\"Fe\":[3,4,5],\"Pb\": [15,20,30]}\n",
    "radii = [1,2,3]\n",
    "\n",
    "#Compute circumference, area and volume assuming different radii\n",
    "\n",
    "circumference = []\n",
    "for i in map(lambda r: round(2*math.pi*r,2), radii): circumference.append(i)\n",
    "area = []\n",
    "for i in map(lambda r: round(math.pi*r**2,2), radii): area.append(i)\n",
    "volume = []\n",
    "for i in map(lambda r: round(4/3*math.pi*r**3,2), radii): volume.append(i)\n",
    "   \n",
    "circle_weight = []\n",
    "disk_weight = []\n",
    "sphere_weight = []\n",
    "\n",
    "#Compute the weight of circle, disk and sphere assuming different densities\n",
    "\n",
    "for x, y, z in zip(circumference, area, volume):\n",
    "    \n",
    "       for i in densities:\n",
    "            \n",
    "            circle_weight.append(round(x*densities[i][0],2))\n",
    "            disk_weight.append(round(y*densities[i][1],2))\n",
    "            sphere_weight.append(round(z*densities[i][2],2))\n",
    "\n",
    "#Print all the results\n",
    "\n",
    "ind=0            \n",
    "for j in range(3):\n",
    "    for k in range(3):\n",
    "        print(\"Weights with density of\", sorted(densities)[k],\"and radii\",radii[j],\"of:\",'\\n')\n",
    "        print(\" circle \",circle_weight[ind],'\\n',\"disk   \",disk_weight[ind],'\\n',\"sphere \",sphere_weight[ind],'\\n')\n",
    "        ind+=1"
   ]
  },
  {
   "cell_type": "markdown",
   "metadata": {},
   "source": [
    "6\\. Edit the class defintion to add an instance attribute of is_hungry = True to the Dog class. Then add a method called eat() which changes the value of is_hungry to False when called. Figure out the best way to feed each dog and then output “My dogs are hungry.” if all are hungry or “My dogs are not hungry.” if all are not hungry. The final output should look like this:\n",
    "\n",
    "`I have 3 dogs. \n",
    "Tom is 6. \n",
    "Fletcher is 7. \n",
    "Larry is 9. \n",
    "And they're all mammals, of course. \n",
    "My dogs are not hungry.\n",
    "`\n",
    "\n",
    "```python\n",
    "# Parent class\n",
    "class Dog:\n",
    "\n",
    "    # Class attribute\n",
    "    species = 'mammal'\n",
    "\n",
    "    # Initializer / Instance attributes\n",
    "    def __init__(self, name, age, is_hungry):\n",
    "        self.name = name\n",
    "        self.age = age\n",
    "        \n",
    "    # instance method\n",
    "    def description(self):\n",
    "        return \"{} is {} years old\".format(self.name, self.age)\n",
    "\n",
    "    # instance method\n",
    "    def speak(self, sound):\n",
    "        return \"{} says {}\".format(self.name, sound)\n",
    "    \n",
    "# Child class (inherits from Dog class)\n",
    "class RussellTerrier(Dog):\n",
    "    def run(self, speed):\n",
    "        return \"{} runs {}\".format(self.name, speed)\n",
    "\n",
    "# Child class (inherits from Dog class)\n",
    "class Bulldog(Dog):\n",
    "    def run(self, speed):\n",
    "        return \"{} runs {}\".format(self.name, speed)\n",
    "```"
   ]
  },
  {
   "cell_type": "code",
   "execution_count": 1,
   "metadata": {},
   "outputs": [],
   "source": [
    "# Parent class\n",
    "class Dog:\n",
    "\n",
    "    # Class attribute\n",
    "    species = 'mammals'\n",
    "    \n",
    "    instance=[] #I put all the Boolean value about dog's hungry in a list called 'instance'\n",
    "    \n",
    "    # Initializer / Instance attributes\n",
    "    def __init__(self, name, age, is_hungry):\n",
    "        self.name = name\n",
    "        self.age = age\n",
    "        self.is_hungry = is_hungry\n",
    "\n",
    "    # instance method\n",
    "    def description(self):\n",
    "        return \"{} is {} years old\".format(self.name, self.age)\n",
    "\n",
    "    # instance method\n",
    "    def speak(self, sound):\n",
    "        return \"{} says {}\".format(self.name, sound)\n",
    "    \n",
    "    def eat(self):\n",
    "        self.is_hungry = False\n",
    "        return self.is_hungry\n",
    "            \n",
    "# Child class (inherits from Dog class)\n",
    "class RussellTerrier(Dog):\n",
    "    def run(self, speed):\n",
    "        return \"{} runs {}\".format(self.name, speed)\n",
    "\n",
    "# Child class (inherits from Dog class)\n",
    "class Bulldog(Dog):\n",
    "    def run(self, speed):\n",
    "        return \"{} runs {}\".format(self.name, speed)  "
   ]
  },
  {
   "cell_type": "code",
   "execution_count": 9,
   "metadata": {},
   "outputs": [
    {
     "name": "stdout",
     "output_type": "stream",
     "text": [
      " I have 3 dogs. \n",
      " Tom is 6 years old \n",
      " Fletcher is 7 years old \n",
      " Larry is 9 years old\n",
      " And they're all mammals of course.\n",
      " My dogs are not hungry.\n"
     ]
    }
   ],
   "source": [
    "Tom = Dog(\"Tom\",6,True)\n",
    "Fletcher = Dog(\"Fletcher\",7,True)\n",
    "Larry = Dog(\"Larry\",9,True)\n",
    "\n",
    "#I give them foods\n",
    "Tom.eat()\n",
    "Fletcher.eat()\n",
    "Larry.eat()\n",
    "\n",
    "print(\" I have 3 dogs.\",'\\n',Dog.description(Tom),'\\n', Dog.description(Fletcher),'\\n', Dog.description(Larry))\n",
    "print(\" And they're all\",Dog.species,\"of course.\")\n",
    "\n",
    "if Tom.is_hungry == Fletcher.is_hungry == Larry.is_hungry == True:\n",
    "    print(\" My dogs are hungry.\")\n",
    "else:\n",
    "    print(\" My dogs are not hungry.\")"
   ]
  },
  {
   "cell_type": "code",
   "execution_count": null,
   "metadata": {},
   "outputs": [],
   "source": []
  }
 ],
 "metadata": {
  "kernelspec": {
   "display_name": "Python 3",
   "language": "python",
   "name": "python3"
  },
  "language_info": {
   "codemirror_mode": {
    "name": "ipython",
    "version": 3
   },
   "file_extension": ".py",
   "mimetype": "text/x-python",
   "name": "python",
   "nbconvert_exporter": "python",
   "pygments_lexer": "ipython3",
   "version": "3.8.3"
  }
 },
 "nbformat": 4,
 "nbformat_minor": 2
}
